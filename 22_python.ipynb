{
 "cells": [
  {
   "cell_type": "code",
   "execution_count": 8,
   "id": "e5055d38",
   "metadata": {},
   "outputs": [],
   "source": [
    "# l=[[1,2,3],[4,7,10],2,]\n",
    "# l1=l.copy()\n",
    "# l1[3][1]=17\n",
    "# l1"
   ]
  },
  {
   "cell_type": "code",
   "execution_count": 1,
   "id": "fc7ed9dc",
   "metadata": {},
   "outputs": [
    {
     "data": {
      "text/plain": [
       "False"
      ]
     },
     "execution_count": 1,
     "metadata": {},
     "output_type": "execute_result"
    }
   ],
   "source": [
    "def prime(n):\n",
    "    x=[]\n",
    "    count=0\n",
    "    for i in range(1,n+1):\n",
    "        if n%i==0:\n",
    "            x.append(i)\n",
    "            count=count+1\n",
    "    if count==2:\n",
    "        return True\n",
    "    else:\n",
    "        return False\n",
    "prime(100)"
   ]
  },
  {
   "cell_type": "code",
   "execution_count": 26,
   "id": "0b46d0b7",
   "metadata": {},
   "outputs": [
    {
     "name": "stdout",
     "output_type": "stream",
     "text": [
      "3\n"
     ]
    }
   ],
   "source": [
    "s1 = 'abc'\n",
    "s2 = 'abcd'\n",
    "\n",
    "\n"
   ]
  },
  {
   "cell_type": "code",
   "execution_count": 5,
   "id": "e299a64d",
   "metadata": {},
   "outputs": [
    {
     "name": "stdout",
     "output_type": "stream",
     "text": [
      " enter a number1000000\n",
      "1,000,000\n"
     ]
    }
   ],
   "source": [
    "n=eval(input(\" enter a number\"))\n",
    "print(f\"{n:,d}\")"
   ]
  },
  {
   "cell_type": "code",
   "execution_count": null,
   "id": "1768389c",
   "metadata": {},
   "outputs": [],
   "source": []
  },
  {
   "cell_type": "code",
   "execution_count": null,
   "id": "521dd433",
   "metadata": {},
   "outputs": [],
   "source": []
  }
 ],
 "metadata": {
  "kernelspec": {
   "display_name": "Python 3",
   "language": "python",
   "name": "python3"
  },
  "language_info": {
   "codemirror_mode": {
    "name": "ipython",
    "version": 3
   },
   "file_extension": ".py",
   "mimetype": "text/x-python",
   "name": "python",
   "nbconvert_exporter": "python",
   "pygments_lexer": "ipython3",
   "version": "3.9.2"
  }
 },
 "nbformat": 4,
 "nbformat_minor": 5
}
